{
 "cells": [
  {
   "cell_type": "code",
   "execution_count": 2,
   "metadata": {},
   "outputs": [
    {
     "data": {
      "application/vnd.webio.node+json": {
       "children": [],
       "instanceArgs": {
        "namespace": "html",
        "tag": "div"
       },
       "nodeType": "DOM",
       "props": {},
       "type": "node"
      },
      "text/html": [
       "<div style=\"padding: 1em; background-color: #f8d6da; border: 1px solid #f5c6cb; font-weight: bold;\">\n",
       "<p>The WebIO Jupyter extension was not detected. See the\n",
       "<a href=\"https://juliagizmos.github.io/WebIO.jl/latest/providers/ijulia/\" target=\"_blank\">\n",
       "    WebIO Jupyter integration documentation\n",
       "</a>\n",
       "for more information.\n",
       "</div>\n"
      ],
      "text/plain": [
       "WebIO._IJuliaInit()"
      ]
     },
     "metadata": {},
     "output_type": "display_data"
    }
   ],
   "source": [
    "using DrWatson\n",
    "@quickactivate :SAME\n",
    "using SAME\n",
    "using DataFrames\n",
    "using PlotlyJS"
   ]
  },
  {
   "cell_type": "code",
   "execution_count": 3,
   "metadata": {},
   "outputs": [
    {
     "name": "stderr",
     "output_type": "stream",
     "text": [
      "\u001b[36m\u001b[1m[ \u001b[22m\u001b[39m\u001b[36m\u001b[1mInfo: \u001b[22m\u001b[39mScanning folder /Users/willthompson/Documents/CSDS/MOCS2/package/SAME/data/simulations for result files.\n",
      "\u001b[36m\u001b[1m[ \u001b[22m\u001b[39m\u001b[36m\u001b[1mInfo: \u001b[22m\u001b[39mAdded 4 entries.\n"
     ]
    },
    {
     "data": {
      "text/html": [
       "<div><div style = \"float: left;\"><span>4×4 DataFrame</span></div><div style = \"clear: both;\"></div></div><div class = \"data-frame\" style = \"overflow-x: scroll;\"><table class = \"data-frame\" style = \"margin-bottom: 6px;\"><thead><tr class = \"header\"><th class = \"rowNumber\" style = \"font-weight: bold; text-align: right;\">Row</th><th style = \"text-align: left;\">hyperedge_size</th><th style = \"text-align: left;\">hyperedge_u</th><th style = \"text-align: left;\">hyperedge_index</th><th style = \"text-align: left;\">path</th></tr><tr class = \"subheader headerLastRow\"><th class = \"rowNumber\" style = \"font-weight: bold; text-align: right;\"></th><th title = \"Union{Missing, Vector{Int64}}\" style = \"text-align: left;\">Array…?</th><th title = \"Union{Missing, Vector{Int64}}\" style = \"text-align: left;\">Array…?</th><th title = \"Union{Missing, Vector{Int64}}\" style = \"text-align: left;\">Array…?</th><th title = \"Union{Missing, String}\" style = \"text-align: left;\">String?</th></tr></thead><tbody><tr><td class = \"rowNumber\" style = \"font-weight: bold; text-align: right;\">1</td><td style = \"text-align: left;\">[517, 523, 524, 500, 506, 502, 474, 566, 513, 476  …  524, 493, 515, 494, 520, 517, 509, 496, 537, 488]</td><td style = \"text-align: left;\">[254, 262, 260, 228, 247, 225, 223, 310, 258, 246  …  261, 230, 250, 238, 262, 252, 267, 255, 263, 245]</td><td style = \"text-align: left;\">[5239, 5058, 5389, 5052, 5138, 5126, 5375, 5099, 5418, 5013  …  5475, 5252, 5137, 5311, 5415, 5211, 5281, 5205, 5300, 5416]</td><td style = \"text-align: left;\">/Users/willthompson/Documents/CSDS/MOCS2/package/SAME/data/simulations/M_p=0.1_N_groups=500_N_inds=5000_N_p=0.5_N_steps=50000.jld2</td></tr><tr><td class = \"rowNumber\" style = \"font-weight: bold; text-align: right;\">2</td><td style = \"text-align: left;\">[1004, 969, 982, 1016, 982, 1014, 965, 977, 969, 1030  …  972, 1019, 960, 975, 978, 1000, 1044, 978, 1089, 998]</td><td style = \"text-align: left;\">[505, 453, 498, 470, 490, 518, 490, 479, 464, 535  …  477, 519, 487, 505, 487, 500, 522, 481, 539, 531]</td><td style = \"text-align: left;\">[5239, 5058, 5389, 5052, 5138, 5126, 5375, 5099, 5418, 5013  …  5475, 5252, 5137, 5311, 5415, 5211, 5281, 5205, 5300, 5416]</td><td style = \"text-align: left;\">/Users/willthompson/Documents/CSDS/MOCS2/package/SAME/data/simulations/M_p=0.2_N_groups=500_N_inds=5000_N_p=0.5_N_steps=50000.jld2</td></tr><tr><td class = \"rowNumber\" style = \"font-weight: bold; text-align: right;\">3</td><td style = \"text-align: left;\">[1466, 1507, 1557, 1585, 1541, 1529, 1493, 1508, 1452, 1498  …  1501, 1513, 1531, 1494, 1538, 1498, 1472, 1541, 1497, 1480]</td><td style = \"text-align: left;\">[754, 763, 743, 791, 754, 780, 717, 736, 707, 748  …  738, 747, 761, 710, 768, 738, 748, 775, 786, 722]</td><td style = \"text-align: left;\">[5239, 5058, 5389, 5052, 5138, 5126, 5375, 5099, 5418, 5013  …  5475, 5252, 5137, 5311, 5415, 5211, 5281, 5205, 5300, 5416]</td><td style = \"text-align: left;\">/Users/willthompson/Documents/CSDS/MOCS2/package/SAME/data/simulations/M_p=0.3_N_groups=500_N_inds=5000_N_p=0.5_N_steps=50000.jld2</td></tr><tr><td class = \"rowNumber\" style = \"font-weight: bold; text-align: right;\">4</td><td style = \"text-align: left;\">[1994, 1985, 2019, 2003, 1969, 2030, 2064, 1962, 2027, 2019  …  1991, 2011, 2026, 1957, 1987, 1986, 2053, 2062, 2030, 2012]</td><td style = \"text-align: left;\">[949, 988, 1001, 963, 979, 1013, 988, 929, 1017, 1021  …  1008, 998, 983, 975, 934, 987, 1000, 1014, 974, 1000]</td><td style = \"text-align: left;\">[5239, 5058, 5389, 5052, 5138, 5126, 5375, 5099, 5418, 5013  …  5475, 5252, 5137, 5311, 5415, 5211, 5281, 5205, 5300, 5416]</td><td style = \"text-align: left;\">/Users/willthompson/Documents/CSDS/MOCS2/package/SAME/data/simulations/M_p=0.4_N_groups=500_N_inds=5000_N_p=0.5_N_steps=50000.jld2</td></tr></tbody></table></div>"
      ],
      "text/latex": [
       "\\begin{tabular}{r|cc}\n",
       "\t& hyperedge\\_size & \\\\\n",
       "\t\\hline\n",
       "\t& Array…? & \\\\\n",
       "\t\\hline\n",
       "\t1 & [517, 523, 524, 500, 506, 502, 474, 566, 513, 476  …  524, 493, 515, 494, 520, 517, 509, 496, 537, 488] & $\\dots$ \\\\\n",
       "\t2 & [1004, 969, 982, 1016, 982, 1014, 965, 977, 969, 1030  …  972, 1019, 960, 975, 978, 1000, 1044, 978, 1089, 998] & $\\dots$ \\\\\n",
       "\t3 & [1466, 1507, 1557, 1585, 1541, 1529, 1493, 1508, 1452, 1498  …  1501, 1513, 1531, 1494, 1538, 1498, 1472, 1541, 1497, 1480] & $\\dots$ \\\\\n",
       "\t4 & [1994, 1985, 2019, 2003, 1969, 2030, 2064, 1962, 2027, 2019  …  1991, 2011, 2026, 1957, 1987, 1986, 2053, 2062, 2030, 2012] & $\\dots$ \\\\\n",
       "\\end{tabular}\n"
      ],
      "text/plain": [
       "\u001b[1m4×4 DataFrame\u001b[0m\n",
       "\u001b[1m Row \u001b[0m│\u001b[1m hyperedge_size                    \u001b[0m\u001b[1m hyperedge_u                       \u001b[0m\u001b[1m h\u001b[0m ⋯\n",
       "     │\u001b[90m Vector{Int64}?                    \u001b[0m\u001b[90m Vector{Int64}?                    \u001b[0m\u001b[90m V\u001b[0m ⋯\n",
       "─────┼──────────────────────────────────────────────────────────────────────────\n",
       "   1 │ [517, 523, 524, 500, 506, 502, 4…  [254, 262, 260, 228, 247, 225, 2…  [ ⋯\n",
       "   2 │ [1004, 969, 982, 1016, 982, 1014…  [505, 453, 498, 470, 490, 518, 4…  [\n",
       "   3 │ [1466, 1507, 1557, 1585, 1541, 1…  [754, 763, 743, 791, 754, 780, 7…  [\n",
       "   4 │ [1994, 1985, 2019, 2003, 1969, 2…  [949, 988, 1001, 963, 979, 1013,…  [\n",
       "\u001b[36m                                                               2 columns omitted\u001b[0m"
      ]
     },
     "execution_count": 3,
     "metadata": {},
     "output_type": "execute_result"
    }
   ],
   "source": [
    "df = collect_results(datadir(\"simulations\"))"
   ]
  },
  {
   "cell_type": "code",
   "execution_count": null,
   "metadata": {},
   "outputs": [],
   "source": [
    "d"
   ]
  }
 ],
 "metadata": {
  "kernelspec": {
   "display_name": "Julia 1.8.0",
   "language": "julia",
   "name": "julia-1.8"
  },
  "language_info": {
   "file_extension": ".jl",
   "mimetype": "application/julia",
   "name": "julia",
   "version": "1.8.0"
  },
  "orig_nbformat": 4,
  "vscode": {
   "interpreter": {
    "hash": "bd385fe162c5ca0c84973b7dd5c518456272446b2b64e67c2a69f949ca7a1754"
   }
  }
 },
 "nbformat": 4,
 "nbformat_minor": 2
}
